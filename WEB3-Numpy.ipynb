{
 "cells": [
  {
   "cell_type": "markdown",
   "id": "41ec6d14",
   "metadata": {},
   "source": [
    "# @ Numpy\n",
    "NumPy is used for working with arrays.\n",
    "\n",
    "NumPy is short for \"Numerical Python\", has functions for working in domain of linear algebra, fourier transform, and matrices.\n",
    "\n",
    "**50x faster than traditional Python lists.**"
   ]
  },
  {
   "cell_type": "markdown",
   "id": "69a5cb47",
   "metadata": {},
   "source": [
    "# -- Installation\n",
    "if command fails it's already installed like, Anaconda, Spyder etc."
   ]
  },
  {
   "cell_type": "markdown",
   "id": "534bbc6d",
   "metadata": {},
   "source": [
    "C:\\Users\\Your Name>pip install numpy"
   ]
  },
  {
   "cell_type": "markdown",
   "id": "fa1f1a8b",
   "metadata": {},
   "source": [
    "# -- Importing & creation\n",
    "### create a NumPy ndarray object by using the array() function.\n",
    "of numpy array"
   ]
  },
  {
   "cell_type": "code",
   "execution_count": 1,
   "id": "70512a7c",
   "metadata": {},
   "outputs": [
    {
     "name": "stdout",
     "output_type": "stream",
     "text": [
      "[1 2 3 4 5]\n",
      "<class 'numpy.ndarray'>\n"
     ]
    }
   ],
   "source": [
    "import numpy as np\n",
    "\n",
    "arr = np.array([1, 2, 3, 4, 5])\n",
    "\n",
    "print(arr)\n",
    "\n",
    "print(type(arr))"
   ]
  },
  {
   "cell_type": "markdown",
   "id": "4ab0ce5e",
   "metadata": {},
   "source": [
    "# -- DIMENSIONS IN ARRAYS"
   ]
  },
  {
   "cell_type": "markdown",
   "id": "78b65d34",
   "metadata": {},
   "source": [
    "### 0-D or Scalars\n",
    "are the elements in an array. Each value in an array is a 0-D array."
   ]
  },
  {
   "cell_type": "code",
   "execution_count": 3,
   "id": "e8a50204",
   "metadata": {},
   "outputs": [
    {
     "name": "stdout",
     "output_type": "stream",
     "text": [
      "42\n"
     ]
    }
   ],
   "source": [
    "import numpy as np\n",
    "\n",
    "arr = np.array(42)\n",
    "\n",
    "print(arr)"
   ]
  },
  {
   "cell_type": "markdown",
   "id": "e1bcbc00",
   "metadata": {},
   "source": [
    "### 1-D \n",
    "uni-dimensional or 1-D array.These are the most common and basic arrays."
   ]
  },
  {
   "cell_type": "code",
   "execution_count": 4,
   "id": "5d94501f",
   "metadata": {},
   "outputs": [
    {
     "name": "stdout",
     "output_type": "stream",
     "text": [
      "[1 2 3 4 5]\n"
     ]
    }
   ],
   "source": [
    "import numpy as np\n",
    "\n",
    "arr = np.array([1, 2, 3, 4, 5])\n",
    "\n",
    "print(arr)"
   ]
  },
  {
   "cell_type": "markdown",
   "id": "1a900548",
   "metadata": {},
   "source": [
    "### 2-D\n",
    "These are often used to represent **matrix or 2nd order tensors.**"
   ]
  },
  {
   "cell_type": "code",
   "execution_count": 5,
   "id": "c9b2d227",
   "metadata": {},
   "outputs": [
    {
     "name": "stdout",
     "output_type": "stream",
     "text": [
      "[[1 2 3]\n",
      " [4 5 6]]\n"
     ]
    }
   ],
   "source": [
    "import numpy as np\n",
    "\n",
    "arr = np.array([[1, 2, 3], [4, 5, 6]])\n",
    "\n",
    "print(arr)"
   ]
  },
  {
   "cell_type": "markdown",
   "id": "309b64e6",
   "metadata": {},
   "source": [
    "### 3-D\n",
    "An array that has 2-D arrays (matrices) inside"
   ]
  },
  {
   "cell_type": "code",
   "execution_count": 6,
   "id": "125fe944",
   "metadata": {},
   "outputs": [
    {
     "name": "stdout",
     "output_type": "stream",
     "text": [
      "[[[1 2 3]\n",
      "  [4 5 6]]\n",
      "\n",
      " [[1 2 3]\n",
      "  [4 5 6]]]\n"
     ]
    }
   ],
   "source": [
    "import numpy as np\n",
    "\n",
    "arr = np.array([[[1, 2, 3], [4, 5, 6]], [[1, 2, 3], [4, 5, 6]]])\n",
    "\n",
    "print(arr)"
   ]
  },
  {
   "cell_type": "markdown",
   "id": "d34f7a9f",
   "metadata": {},
   "source": [
    "# + Checking Dimensions\n",
    "## .ndim\n",
    " attribute that returns an integer that tells us how many dimensions the array have."
   ]
  },
  {
   "cell_type": "code",
   "execution_count": 7,
   "id": "5874bc16",
   "metadata": {},
   "outputs": [
    {
     "name": "stdout",
     "output_type": "stream",
     "text": [
      "0\n",
      "1\n",
      "2\n",
      "3\n"
     ]
    }
   ],
   "source": [
    "import numpy as np\n",
    "\n",
    "a = np.array(42)\n",
    "b = np.array([1, 2, 3, 4, 5])\n",
    "c = np.array([[1, 2, 3], [4, 5, 6]])\n",
    "d = np.array([[[1, 2, 3], [4, 5, 6]], [[1, 2, 3], [4, 5, 6]]])\n",
    "\n",
    "print(a.ndim)\n",
    "print(b.ndim)\n",
    "print(c.ndim)\n",
    "print(d.ndim)"
   ]
  },
  {
   "cell_type": "markdown",
   "id": "b1ad33cc",
   "metadata": {},
   "source": [
    "# + Higher Dimensional Arrays\n",
    "## ndmin\n",
    "When the array is created, you can define the number of dimensions by using the **ndmin** argument."
   ]
  },
  {
   "cell_type": "code",
   "execution_count": 8,
   "id": "622ec1d7",
   "metadata": {},
   "outputs": [
    {
     "name": "stdout",
     "output_type": "stream",
     "text": [
      "[[[[[1 2 3 4]]]]]\n",
      "number of dimensions : 5\n"
     ]
    }
   ],
   "source": [
    "arr = np.array([1, 2, 3, 4], ndmin=5)\n",
    "\n",
    "print(arr)\n",
    "print('number of dimensions :', arr.ndim) #must be 1 but we defined it different"
   ]
  },
  {
   "cell_type": "markdown",
   "id": "197f0a9b",
   "metadata": {},
   "source": [
    "# -- INDEXING (accessing)\n",
    "You can access an array element by referring to its index number.\n",
    "\n",
    "The indexes in **NumPy arrays start with 0**, meaning that the first element has index 0, and the second has index 1 etc."
   ]
  },
  {
   "cell_type": "code",
   "execution_count": 9,
   "id": "6f2aeb46",
   "metadata": {},
   "outputs": [
    {
     "name": "stdout",
     "output_type": "stream",
     "text": [
      "1\n"
     ]
    }
   ],
   "source": [
    "\"\"\"1st element\"\"\"\n",
    "import numpy as np\n",
    "\n",
    "arr = np.array([1, 2, 3, 4])\n",
    "\n",
    "print(arr[0])"
   ]
  },
  {
   "cell_type": "markdown",
   "id": "183e7e7b",
   "metadata": {},
   "source": [
    "### indexing 2D array (accessing)"
   ]
  },
  {
   "cell_type": "code",
   "execution_count": 10,
   "id": "2c993ae2",
   "metadata": {},
   "outputs": [
    {
     "name": "stdout",
     "output_type": "stream",
     "text": [
      "2nd element on 1st row:  2\n"
     ]
    }
   ],
   "source": [
    "\"\"\"Access the element on the first row, second column:\"\"\"\n",
    "import numpy as np\n",
    "\n",
    "arr = np.array([[1,2,3,4,5], [6,7,8,9,10]])\n",
    "\n",
    "print('2nd element on 1st row: ', arr[0, 1])"
   ]
  },
  {
   "cell_type": "markdown",
   "id": "f782d11f",
   "metadata": {},
   "source": [
    "### indexing 3D array (accessing)"
   ]
  },
  {
   "cell_type": "code",
   "execution_count": 12,
   "id": "ab61a123",
   "metadata": {},
   "outputs": [
    {
     "name": "stdout",
     "output_type": "stream",
     "text": [
      "6\n"
     ]
    }
   ],
   "source": [
    "\"\"\"Access the third element of the second array of the first array:\"\"\"\n",
    "import numpy as np\n",
    "\n",
    "arr = np.array([[[1, 2, 3], [4, 5, 6]], [[7, 8, 9], [10, 11, 12]]])\n",
    "\n",
    "print(arr[0, 1, 2])"
   ]
  },
  {
   "cell_type": "markdown",
   "id": "3857b8b9",
   "metadata": {},
   "source": [
    "# +Negative Indexing"
   ]
  },
  {
   "cell_type": "code",
   "execution_count": 13,
   "id": "f4fa181f",
   "metadata": {},
   "outputs": [
    {
     "name": "stdout",
     "output_type": "stream",
     "text": [
      "Last element from 2nd dim:  10\n"
     ]
    }
   ],
   "source": [
    "\"\"\"Print the last element from the 2nd dim:\"\"\"\n",
    "import numpy as np\n",
    "\n",
    "arr = np.array([[1,2,3,4,5], [6,7,8,9,10]])\n",
    "\n",
    "print('Last element from 2nd dim: ', arr[1, -1])"
   ]
  },
  {
   "cell_type": "markdown",
   "id": "d0d11f46",
   "metadata": {},
   "source": [
    "# -- SLICING\n",
    "## [start:end:step]\n",
    " means taking elements from one given index to another given index.\n",
    " \n",
    " **remember that starts from 0**"
   ]
  },
  {
   "cell_type": "code",
   "execution_count": 18,
   "id": "3a4733f7",
   "metadata": {},
   "outputs": [
    {
     "name": "stdout",
     "output_type": "stream",
     "text": [
      "[2 3 4 5]\n"
     ]
    }
   ],
   "source": [
    "\"\"\"from 2 to 5 starting from count 0\"\"\"\n",
    "import numpy as np\n",
    "\n",
    "arr = np.array([1, 2, 3, 4, 5, 6, 7])\n",
    "\n",
    "print(arr[1:5])"
   ]
  },
  {
   "cell_type": "code",
   "execution_count": 19,
   "id": "c0e01b99",
   "metadata": {},
   "outputs": [
    {
     "name": "stdout",
     "output_type": "stream",
     "text": [
      "[5 6 7]\n"
     ]
    }
   ],
   "source": [
    "\"\"\"Slice elements from index 4 to the end of the array:\"\"\"\n",
    "import numpy as np\n",
    "\n",
    "arr = np.array([1, 2, 3, 4, 5, 6, 7])\n",
    "\n",
    "print(arr[4:])"
   ]
  },
  {
   "cell_type": "code",
   "execution_count": 20,
   "id": "41616bc5",
   "metadata": {},
   "outputs": [
    {
     "name": "stdout",
     "output_type": "stream",
     "text": [
      "[1 2 3 4]\n"
     ]
    }
   ],
   "source": [
    "\"\"\"from the beginning to index 4 (not included):\"\"\"\n",
    "import numpy as np\n",
    "\n",
    "arr = np.array([1, 2, 3, 4, 5, 6, 7])\n",
    "\n",
    "print(arr[:4])"
   ]
  },
  {
   "cell_type": "markdown",
   "id": "fb681c19",
   "metadata": {},
   "source": [
    "# + Negative Slicing"
   ]
  },
  {
   "cell_type": "code",
   "execution_count": 21,
   "id": "09ccdbf4",
   "metadata": {},
   "outputs": [
    {
     "name": "stdout",
     "output_type": "stream",
     "text": [
      "[5 6]\n"
     ]
    }
   ],
   "source": [
    "import numpy as np\n",
    "\n",
    "arr = np.array([1, 2, 3, 4, 5, 6, 7])\n",
    "\n",
    "print(arr[-3:-1])"
   ]
  },
  {
   "cell_type": "markdown",
   "id": "91b3c460",
   "metadata": {},
   "source": [
    "# + Step"
   ]
  },
  {
   "cell_type": "code",
   "execution_count": 24,
   "id": "26435c2d",
   "metadata": {},
   "outputs": [
    {
     "name": "stdout",
     "output_type": "stream",
     "text": [
      "[2 4]\n"
     ]
    }
   ],
   "source": [
    "\"\"\"Return every other element from index 1 to index 5, 2 by 2:\"\"\"\n",
    "import numpy as np\n",
    "\n",
    "arr = np.array([1, 2, 3, 4, 5, 6, 7])\n",
    "\n",
    "print(arr[1:5:2])"
   ]
  },
  {
   "cell_type": "markdown",
   "id": "a0d8d4db",
   "metadata": {},
   "source": [
    "### slicing every element"
   ]
  },
  {
   "cell_type": "code",
   "execution_count": 23,
   "id": "0ef54371",
   "metadata": {},
   "outputs": [
    {
     "name": "stdout",
     "output_type": "stream",
     "text": [
      "[1 3 5 7]\n"
     ]
    }
   ],
   "source": [
    "\"\"\"Return every other element from the entire array:\"\"\"\n",
    "import numpy as np\n",
    "\n",
    "arr = np.array([1, 2, 3, 4, 5, 6, 7])\n",
    "\n",
    "print(arr[::2])"
   ]
  },
  {
   "cell_type": "markdown",
   "id": "7e54e389",
   "metadata": {},
   "source": [
    "### Slicing 2-D Arrays"
   ]
  },
  {
   "cell_type": "code",
   "execution_count": 25,
   "id": "27725522",
   "metadata": {},
   "outputs": [
    {
     "name": "stdout",
     "output_type": "stream",
     "text": [
      "[7 8 9]\n"
     ]
    }
   ],
   "source": [
    "\"\"\"From the second element, slice elements from index 1 to index 4 (not included):\"\"\"\n",
    "import numpy as np\n",
    "\n",
    "arr = np.array([[1, 2, 3, 4, 5], [6, 7, 8, 9, 10]])\n",
    "\n",
    "print(arr[1, 1:4])"
   ]
  },
  {
   "cell_type": "code",
   "execution_count": 26,
   "id": "def903fc",
   "metadata": {},
   "outputs": [
    {
     "name": "stdout",
     "output_type": "stream",
     "text": [
      "[3 8]\n"
     ]
    }
   ],
   "source": [
    "\"\"\"From both elements, return index 2:\"\"\"\n",
    "import numpy as np\n",
    "\n",
    "arr = np.array([[1, 2, 3, 4, 5], [6, 7, 8, 9, 10]])\n",
    "\n",
    "print(arr[0:2, 2])"
   ]
  },
  {
   "cell_type": "code",
   "execution_count": 32,
   "id": "17ea8261",
   "metadata": {},
   "outputs": [
    {
     "name": "stdout",
     "output_type": "stream",
     "text": [
      "[[2 3 4]\n",
      " [7 8 9]]\n"
     ]
    }
   ],
   "source": [
    "\"\"\"From both elements, slice index 1 to index 4 (not included), this will return a 2-D array:\"\"\"\n",
    "import numpy as np\n",
    "\n",
    "arr = np.array([[1, 2, 3, 4, 5], [6, 7, 8, 9, 10]])\n",
    "\n",
    "print(arr[0:2, 1:4])"
   ]
  },
  {
   "cell_type": "markdown",
   "id": "3311dc57",
   "metadata": {},
   "source": [
    "# -- DATA TYPES( in NumPy)"
   ]
  },
  {
   "cell_type": "markdown",
   "id": "4e56b416",
   "metadata": {},
   "source": [
    "i - integer\n",
    "\n",
    "b - boolean\n",
    "\n",
    "u - unsigned integer\n",
    "\n",
    "f - float\n",
    "\n",
    "c - complex float\n",
    "\n",
    "m - timedelta\n",
    "\n",
    "M - datetime\n",
    "\n",
    "O - object\n",
    "\n",
    "S - string\n",
    "\n",
    "U - unicode string\n",
    "\n",
    "V - fixed chunk of memory for other type ( void )"
   ]
  },
  {
   "cell_type": "markdown",
   "id": "1374001f",
   "metadata": {},
   "source": [
    "# + Checking the Data Type  \n",
    "## .dtype"
   ]
  },
  {
   "cell_type": "code",
   "execution_count": 2,
   "id": "b2957217",
   "metadata": {},
   "outputs": [
    {
     "name": "stdout",
     "output_type": "stream",
     "text": [
      "<U6\n"
     ]
    }
   ],
   "source": [
    "import numpy as np\n",
    "\n",
    "arr = np.array(['apple', 'banana', 'cherry'])\n",
    "\n",
    "print(arr.dtype)"
   ]
  },
  {
   "cell_type": "markdown",
   "id": "1d38d804",
   "metadata": {},
   "source": [
    "# + Definig a Data Type\n",
    "### dtype"
   ]
  },
  {
   "cell_type": "code",
   "execution_count": 3,
   "id": "5885bc22",
   "metadata": {},
   "outputs": [
    {
     "name": "stdout",
     "output_type": "stream",
     "text": [
      "[b'1' b'2' b'3' b'4']\n",
      "|S1\n"
     ]
    }
   ],
   "source": [
    "\"\"\"Create an array with data type string:\"\"\"\n",
    "import numpy as np\n",
    "\n",
    "arr = np.array([1, 2, 3, 4], dtype='S')\n",
    "\n",
    "print(arr)\n",
    "print(arr.dtype)"
   ]
  },
  {
   "cell_type": "code",
   "execution_count": 8,
   "id": "6bdba88a",
   "metadata": {},
   "outputs": [
    {
     "name": "stdout",
     "output_type": "stream",
     "text": [
      "[1 2 3 4]\n",
      "int32\n"
     ]
    }
   ],
   "source": [
    "\"\"\" with data type 4 bytes integer:\"\"\"\n",
    "import numpy as np\n",
    "\n",
    "arr = np.array([1, 2, 3, 4], dtype='i4')\n",
    "\n",
    "print(arr)\n",
    "print(arr.dtype)"
   ]
  },
  {
   "cell_type": "markdown",
   "id": "25bb776e",
   "metadata": {},
   "source": [
    "# +  Can Not Be Converted?\n",
    "A non integer string like 'a' can not be converted to integer (will raise an error):"
   ]
  },
  {
   "cell_type": "code",
   "execution_count": 9,
   "id": "44199a46",
   "metadata": {},
   "outputs": [
    {
     "ename": "ValueError",
     "evalue": "invalid literal for int() with base 10: 'a'",
     "output_type": "error",
     "traceback": [
      "\u001b[1;31m---------------------------------------------------------------------------\u001b[0m",
      "\u001b[1;31mValueError\u001b[0m                                Traceback (most recent call last)",
      "Input \u001b[1;32mIn [9]\u001b[0m, in \u001b[0;36m<cell line: 3>\u001b[1;34m()\u001b[0m\n\u001b[0;32m      1\u001b[0m \u001b[38;5;28;01mimport\u001b[39;00m \u001b[38;5;21;01mnumpy\u001b[39;00m \u001b[38;5;28;01mas\u001b[39;00m \u001b[38;5;21;01mnp\u001b[39;00m\n\u001b[1;32m----> 3\u001b[0m arr \u001b[38;5;241m=\u001b[39m \u001b[43mnp\u001b[49m\u001b[38;5;241;43m.\u001b[39;49m\u001b[43marray\u001b[49m\u001b[43m(\u001b[49m\u001b[43m[\u001b[49m\u001b[38;5;124;43m'\u001b[39;49m\u001b[38;5;124;43ma\u001b[39;49m\u001b[38;5;124;43m'\u001b[39;49m\u001b[43m,\u001b[49m\u001b[43m \u001b[49m\u001b[38;5;124;43m'\u001b[39;49m\u001b[38;5;124;43m2\u001b[39;49m\u001b[38;5;124;43m'\u001b[39;49m\u001b[43m,\u001b[49m\u001b[43m \u001b[49m\u001b[38;5;124;43m'\u001b[39;49m\u001b[38;5;124;43m3\u001b[39;49m\u001b[38;5;124;43m'\u001b[39;49m\u001b[43m]\u001b[49m\u001b[43m,\u001b[49m\u001b[43m \u001b[49m\u001b[43mdtype\u001b[49m\u001b[38;5;241;43m=\u001b[39;49m\u001b[38;5;124;43m'\u001b[39;49m\u001b[38;5;124;43mi\u001b[39;49m\u001b[38;5;124;43m'\u001b[39;49m\u001b[43m)\u001b[49m\n",
      "\u001b[1;31mValueError\u001b[0m: invalid literal for int() with base 10: 'a'"
     ]
    }
   ],
   "source": [
    "import numpy as np\n",
    "\n",
    "arr = np.array(['a', '2', '3'], dtype='i')"
   ]
  },
  {
   "cell_type": "markdown",
   "id": "19a85323",
   "metadata": {},
   "source": [
    "# + Converting Data Type on Existing Arrays\n",
    "### .astype()\n",
    " best way to change the data type of an existing array, \n",
    " \n",
    " is to make a copy of the array with the **astype()** method.\n",
    " \n",
    " **astype()** function creates a copy of the array, \n",
    " \n",
    " and allows you to specify the data type as a parameter."
   ]
  },
  {
   "cell_type": "code",
   "execution_count": 11,
   "id": "eb35eb81",
   "metadata": {},
   "outputs": [
    {
     "name": "stdout",
     "output_type": "stream",
     "text": [
      "[1 2 3]\n",
      "int32\n"
     ]
    }
   ],
   "source": [
    "\"\"\"Change data type from float to integer by using 'i' as parameter value:\"\"\"\n",
    "import numpy as np\n",
    "\n",
    "arr = np.array([1.1, 2.1, 3.1])\n",
    "\n",
    "newarr = arr.astype('i')\n",
    "\n",
    "print(newarr)\n",
    "print(newarr.dtype)"
   ]
  },
  {
   "cell_type": "code",
   "execution_count": 12,
   "id": "f9fe99b6",
   "metadata": {},
   "outputs": [
    {
     "name": "stdout",
     "output_type": "stream",
     "text": [
      "[ True False  True]\n",
      "bool\n"
     ]
    }
   ],
   "source": [
    "\"\"\"Change data type from integer to boolean:\"\"\"\n",
    "import numpy as np\n",
    "\n",
    "arr = np.array([1, 0, 3])\n",
    "\n",
    "newarr = arr.astype(bool)\n",
    "\n",
    "print(newarr)\n",
    "print(newarr.dtype)"
   ]
  },
  {
   "cell_type": "markdown",
   "id": "e9474cf7",
   "metadata": {},
   "source": [
    "# -- COPY VS VIEW\n",
    "**copy** is a new array, and the **view** is just a view of the original array.\n",
    "\n",
    "in copy = changes made to the original array will not affect the copy."
   ]
  },
  {
   "cell_type": "code",
   "execution_count": 13,
   "id": "0bdd6dd2",
   "metadata": {},
   "outputs": [
    {
     "name": "stdout",
     "output_type": "stream",
     "text": [
      "[42  2  3  4  5]\n",
      "[1 2 3 4 5]\n"
     ]
    }
   ],
   "source": [
    "import numpy as np\n",
    "\n",
    "arr = np.array([1, 2, 3, 4, 5])\n",
    "x = arr.copy()\n",
    "arr[0] = 42\n",
    "\n",
    "print(arr)\n",
    "print(x)"
   ]
  },
  {
   "cell_type": "code",
   "execution_count": 14,
   "id": "eead4f90",
   "metadata": {},
   "outputs": [
    {
     "name": "stdout",
     "output_type": "stream",
     "text": [
      "[42  2  3  4  5]\n",
      "[42  2  3  4  5]\n"
     ]
    }
   ],
   "source": [
    "import numpy as np\n",
    "\n",
    "arr = np.array([1, 2, 3, 4, 5])\n",
    "x = arr.view()\n",
    "arr[0] = 42\n",
    "\n",
    "print(arr)\n",
    "print(x)"
   ]
  },
  {
   "cell_type": "markdown",
   "id": "0345a145",
   "metadata": {},
   "source": [
    "# + Check if Array Owns its Data\n",
    "NumPy array has the attribute base that \n",
    "\n",
    "**returns None if the array owns the data.**\n",
    "\n",
    "Otherwise, the base  attribute refers to the original object."
   ]
  },
  {
   "cell_type": "code",
   "execution_count": 16,
   "id": "c9031808",
   "metadata": {},
   "outputs": [
    {
     "name": "stdout",
     "output_type": "stream",
     "text": [
      "None\n",
      "[1 2 3 4 5]\n"
     ]
    }
   ],
   "source": [
    "import numpy as np\n",
    "\n",
    "arr = np.array([1, 2, 3, 4, 5])\n",
    "\n",
    "x = arr.copy()\n",
    "y = arr.view()\n",
    "\n",
    "print(x.base)\n",
    "print(y.base)"
   ]
  },
  {
   "cell_type": "markdown",
   "id": "606e127e",
   "metadata": {},
   "source": [
    "# -- ARRAY SHAPE\n",
    "### .shape\n",
    "shape of an array is the **number of elements in each dimension.**"
   ]
  },
  {
   "cell_type": "code",
   "execution_count": 19,
   "id": "cad7a8e6",
   "metadata": {},
   "outputs": [
    {
     "name": "stdout",
     "output_type": "stream",
     "text": [
      "(2, 4)\n"
     ]
    }
   ],
   "source": [
    "\"\"\"Print the shape of a 2-D array:\"\"\"\n",
    "import numpy as np\n",
    "\n",
    "arr = np.array([[1, 2, 3, 4], [5, 6, 7, 8]])\n",
    "\n",
    "print(arr.shape)\n",
    "#2 dimentional  where the first dimension has 2 elements and the second has 4."
   ]
  },
  {
   "cell_type": "markdown",
   "id": "a81dfd30",
   "metadata": {},
   "source": [
    "# + defining your shape(dimensions)\n",
    "### ndmin"
   ]
  },
  {
   "cell_type": "code",
   "execution_count": 21,
   "id": "df3c00af",
   "metadata": {},
   "outputs": [
    {
     "name": "stdout",
     "output_type": "stream",
     "text": [
      "[[[[[1 2 3 4]]]]]\n",
      "shape of array : (1, 1, 1, 1, 4)\n"
     ]
    }
   ],
   "source": [
    "\"\"\"Create an array with 5 dimensions using ndmin\"\"\"\n",
    "import numpy as np\n",
    "\n",
    "arr = np.array([1, 2, 3, 4], ndmin=5)\n",
    "\n",
    "print(arr)\n",
    "print('shape of array :', arr.shape)\n",
    "# has 4 dimensions and the fifth has 4 elements"
   ]
  },
  {
   "cell_type": "markdown",
   "id": "aa9b91e0",
   "metadata": {},
   "source": [
    "# -- ARRAY RESHAPE\n",
    "### reshape()\n",
    "The shape of an array is the number of elements in each dimension.\n",
    "\n",
    "By reshaping we can add or remove dimensions or change number of elements in each dimension.\n",
    "\n",
    "**as long as the elements required for reshaping are equal in both shapes.**"
   ]
  },
  {
   "cell_type": "markdown",
   "id": "55d627b6",
   "metadata": {},
   "source": [
    "### Reshape From 1-D to 2-D"
   ]
  },
  {
   "cell_type": "code",
   "execution_count": 22,
   "id": "eada9792",
   "metadata": {},
   "outputs": [
    {
     "name": "stdout",
     "output_type": "stream",
     "text": [
      "[[ 1  2  3]\n",
      " [ 4  5  6]\n",
      " [ 7  8  9]\n",
      " [10 11 12]]\n"
     ]
    }
   ],
   "source": [
    "\"\"\"Convert the following 1-D array with 12 elements into a 2-D array.\n",
    "\n",
    "The outermost dimension will have 4 arrays, each with 3 elements:\"\"\"\n",
    "import numpy as np\n",
    "\n",
    "arr = np.array([1, 2, 3, 4, 5, 6, 7, 8, 9, 10, 11, 12])\n",
    "\n",
    "newarr = arr.reshape(4, 3)\n",
    "\n",
    "print(newarr)"
   ]
  },
  {
   "cell_type": "markdown",
   "id": "de2bded6",
   "metadata": {},
   "source": [
    "### Reshape From 1-D to 3-D"
   ]
  },
  {
   "cell_type": "code",
   "execution_count": 23,
   "id": "52ec8962",
   "metadata": {},
   "outputs": [
    {
     "name": "stdout",
     "output_type": "stream",
     "text": [
      "[[[ 1  2]\n",
      "  [ 3  4]\n",
      "  [ 5  6]]\n",
      "\n",
      " [[ 7  8]\n",
      "  [ 9 10]\n",
      "  [11 12]]]\n"
     ]
    }
   ],
   "source": [
    "\"\"\"1-D array with 12 elements into a 3-D array.\n",
    "\n",
    "The outermost dimension will have 2 arrays that contains 3 arrays, each with 2 elements:\"\"\"\n",
    "import numpy as np\n",
    "\n",
    "arr = np.array([1, 2, 3, 4, 5, 6, 7, 8, 9, 10, 11, 12])\n",
    "\n",
    "newarr = arr.reshape(2, 3, 2)\n",
    "\n",
    "print(newarr)"
   ]
  },
  {
   "cell_type": "markdown",
   "id": "1b0c9085",
   "metadata": {},
   "source": [
    "# + Returns Copy or View?"
   ]
  },
  {
   "cell_type": "code",
   "execution_count": 28,
   "id": "9331e1eb",
   "metadata": {},
   "outputs": [
    {
     "name": "stdout",
     "output_type": "stream",
     "text": [
      "[1 2 3 4 5 6 7 8]\n"
     ]
    }
   ],
   "source": [
    "\"\"\"Check if the returned array is a copy or a view:\"\"\"\n",
    "import numpy as np\n",
    "\n",
    "arr = np.array([1, 2, 3, 4, 5, 6, 7, 8]) #8\n",
    "\n",
    "print(arr.reshape(2, 4).base)\n",
    "# it's a view (original) cause returns an array not a none"
   ]
  },
  {
   "cell_type": "markdown",
   "id": "09061515",
   "metadata": {},
   "source": [
    "# + Unknown Dimension\n",
    "### -1 calulate 4 you\n",
    "You are allowed to have one \"unknown\" dimension.\n",
    "\n",
    "Meaning that you do not have to specify an exact number for one of the dimensions in the reshape method.\n",
    "\n",
    "**Pass -1 as the value, and NumPy will calculate this number for you.**"
   ]
  },
  {
   "cell_type": "code",
   "execution_count": 31,
   "id": "c032bac7",
   "metadata": {},
   "outputs": [
    {
     "name": "stdout",
     "output_type": "stream",
     "text": [
      "[[[ 1  4]\n",
      "  [ 6  3]]\n",
      "\n",
      " [[ 8  9]\n",
      "  [ 5 33]]]\n"
     ]
    }
   ],
   "source": [
    "\"\"\"Convert 1D array with 8 elements, to 3D array with 2x2 elements:\"\"\"\n",
    "import numpy as np\n",
    "arr = np.array([1,4,6,3,8,9,5,33])\n",
    "\n",
    "newarr = arr.reshape(2,2,-1)\n",
    "\n",
    "print(newarr)"
   ]
  },
  {
   "cell_type": "markdown",
   "id": "80716a90",
   "metadata": {},
   "source": [
    "# + Flattening the arrays\n",
    "### reshape()\n",
    "means converting a multidimensional array into a 1D array.\n",
    "\n",
    "We can use reshape(-1) to do this."
   ]
  },
  {
   "cell_type": "markdown",
   "id": "862d44ff",
   "metadata": {},
   "source": [
    "# -- ARRAY ITERATING \n",
    "## for\n",
    "going through elements one by one.\n",
    "### 1D"
   ]
  },
  {
   "cell_type": "code",
   "execution_count": 1,
   "id": "5bbde474",
   "metadata": {},
   "outputs": [
    {
     "name": "stdout",
     "output_type": "stream",
     "text": [
      "1\n",
      "2\n",
      "3\n"
     ]
    }
   ],
   "source": [
    "import numpy as np\n",
    "\n",
    "arr = np.array([1, 2, 3])\n",
    "\n",
    "for x in arr:\n",
    "  print(x)"
   ]
  },
  {
   "cell_type": "markdown",
   "id": "299c6c00",
   "metadata": {},
   "source": [
    "### 2D"
   ]
  },
  {
   "cell_type": "code",
   "execution_count": 2,
   "id": "221476a7",
   "metadata": {},
   "outputs": [
    {
     "name": "stdout",
     "output_type": "stream",
     "text": [
      "[1 2 3]\n",
      "[4 5 6]\n"
     ]
    }
   ],
   "source": [
    "\"\"\"Iterate on the elements of the following 2-D array:\"\"\"\n",
    "import numpy as np\n",
    "\n",
    "arr = np.array([[1, 2, 3], [4, 5, 6]])\n",
    "\n",
    "for x in arr:\n",
    "  print(x)"
   ]
  },
  {
   "cell_type": "markdown",
   "id": "3af95ee0",
   "metadata": {},
   "source": [
    "### returning ONLY the scalars of 2D"
   ]
  },
  {
   "cell_type": "code",
   "execution_count": 3,
   "id": "966e57ec",
   "metadata": {},
   "outputs": [
    {
     "name": "stdout",
     "output_type": "stream",
     "text": [
      "1\n",
      "2\n",
      "3\n",
      "4\n",
      "5\n",
      "6\n"
     ]
    }
   ],
   "source": [
    "import numpy as np\n",
    "\n",
    "arr = np.array([[1, 2, 3], [4, 5, 6]])\n",
    "\n",
    "for x in arr:\n",
    "  for y in x:\n",
    "    print(y)"
   ]
  },
  {
   "cell_type": "markdown",
   "id": "fb6d6383",
   "metadata": {},
   "source": [
    "### 3D"
   ]
  },
  {
   "cell_type": "code",
   "execution_count": 5,
   "id": "d748e3bc",
   "metadata": {},
   "outputs": [
    {
     "name": "stdout",
     "output_type": "stream",
     "text": [
      "[[1 2 3]\n",
      " [4 5 6]]\n",
      "[[ 7  8  9]\n",
      " [10 11 12]]\n"
     ]
    }
   ],
   "source": [
    "import numpy as np\n",
    "\n",
    "arr = np.array([[[1, 2, 3], [4, 5, 6]], [[7, 8, 9], [10, 11, 12]]])\n",
    "\n",
    "for x in arr:\n",
    "  print(x) #array of arrays"
   ]
  },
  {
   "cell_type": "markdown",
   "id": "66104f5b",
   "metadata": {},
   "source": [
    "### returning ONLY the scalars of 3D"
   ]
  },
  {
   "cell_type": "code",
   "execution_count": 6,
   "id": "3de16f0c",
   "metadata": {},
   "outputs": [
    {
     "name": "stdout",
     "output_type": "stream",
     "text": [
      "1\n",
      "2\n",
      "3\n",
      "4\n",
      "5\n",
      "6\n",
      "7\n",
      "8\n",
      "9\n",
      "10\n",
      "11\n",
      "12\n"
     ]
    }
   ],
   "source": [
    "import numpy as np\n",
    "\n",
    "arr = np.array([[[1, 2, 3], [4, 5, 6]], [[7, 8, 9], [10, 11, 12]]])\n",
    "\n",
    "for x in arr:\n",
    "  for y in x:\n",
    "    for z in y:\n",
    "      print(z)"
   ]
  },
  {
   "cell_type": "markdown",
   "id": "a2a7d84c",
   "metadata": {},
   "source": [
    "# + Iterating Arrays Using nditer()\n",
    "## nditer()\n",
    "t **solves** some basic issues which we face in **iteration like nested fors**"
   ]
  },
  {
   "cell_type": "code",
   "execution_count": 7,
   "id": "685241cb",
   "metadata": {},
   "outputs": [
    {
     "name": "stdout",
     "output_type": "stream",
     "text": [
      "1\n",
      "2\n",
      "3\n",
      "4\n",
      "5\n",
      "6\n",
      "7\n",
      "8\n"
     ]
    }
   ],
   "source": [
    "import numpy as np\n",
    "\n",
    "arr = np.array([[[1, 2], [3, 4]], [[5, 6], [7, 8]]])\n",
    "\n",
    "for x in np.nditer(arr):\n",
    "  print(x)"
   ]
  },
  {
   "cell_type": "markdown",
   "id": "c95aa161",
   "metadata": {},
   "source": [
    "# + Iterating Array With Different Data Types\n",
    "### changing types in ITERATION\n",
    "## op_dtypes\n",
    "## flags=['buffered']\n",
    "We can use **op_dtypes** argument and pass it the expected datatype to change the datatype of elements while iterating.\n",
    "\n",
    "**NumPy does not change the data type of the element in-place** (where the element is in array) **so it needs some other space to perform this action, that extra space is called buffer**, and in order to enable it in nditer() we pass **flags=['buffered'].**"
   ]
  },
  {
   "cell_type": "code",
   "execution_count": 10,
   "id": "aefb5a95",
   "metadata": {},
   "outputs": [
    {
     "name": "stdout",
     "output_type": "stream",
     "text": [
      "b'1'\n",
      "b'2'\n",
      "b'3'\n"
     ]
    }
   ],
   "source": [
    "import numpy as np\n",
    "\n",
    "arr = np.array([1, 2, 3])\n",
    "\n",
    "for x in np.nditer(arr, flags=['buffered'], op_dtypes=['S']): #it is like inplace = True\n",
    "  print(x)"
   ]
  },
  {
   "cell_type": "markdown",
   "id": "41a1699c",
   "metadata": {},
   "source": [
    "# + Iterating With Different STEP Size\n",
    "## [: , ::2]"
   ]
  },
  {
   "cell_type": "code",
   "execution_count": 11,
   "id": "12432f47",
   "metadata": {},
   "outputs": [
    {
     "name": "stdout",
     "output_type": "stream",
     "text": [
      "1\n",
      "3\n",
      "5\n",
      "7\n"
     ]
    }
   ],
   "source": [
    "\"\"\"Iterate through every scalar element of the 2D array skipping 1 element:\"\"\"\n",
    "import numpy as np\n",
    "\n",
    "arr = np.array([[1, 2, 3, 4], [5, 6, 7, 8]])\n",
    "\n",
    "for x in np.nditer(arr[:, ::2]):\n",
    "  print(x)"
   ]
  },
  {
   "cell_type": "markdown",
   "id": "9412ee87",
   "metadata": {},
   "source": [
    "# + Enumerated Iteration Using ndenumerate()\n",
    "### ENUMERATING ITERATIONS\n",
    "## ndenumerate()\n",
    "**mentioning sequence number of somethings one by one.**\n",
    "\n",
    "Sometimes we require corresponding index of the element while iterating, the ndenumerate() method can be used for those usecases.\n"
   ]
  },
  {
   "cell_type": "code",
   "execution_count": 13,
   "id": "7334300e",
   "metadata": {},
   "outputs": [
    {
     "name": "stdout",
     "output_type": "stream",
     "text": [
      "(0,) 1\n",
      "(1,) 2\n",
      "(2,) 3\n"
     ]
    }
   ],
   "source": [
    "\"\"\"Enumerate on following 1D arrays elements:\"\"\"\n",
    "import numpy as np\n",
    "\n",
    "arr = np.array([1, 2, 3])\n",
    "\n",
    "for idx, x in np.ndenumerate(arr):\n",
    "  print(idx, x)"
   ]
  },
  {
   "cell_type": "code",
   "execution_count": 14,
   "id": "b37de416",
   "metadata": {},
   "outputs": [
    {
     "name": "stdout",
     "output_type": "stream",
     "text": [
      "(0, 0) 1\n",
      "(0, 1) 2\n",
      "(0, 2) 3\n",
      "(0, 3) 4\n",
      "(1, 0) 5\n",
      "(1, 1) 6\n",
      "(1, 2) 7\n",
      "(1, 3) 8\n"
     ]
    }
   ],
   "source": [
    "\"\"\"Enumerate on following 2D array's elements:\"\"\"\n",
    "import numpy as np\n",
    "\n",
    "arr = np.array([[1, 2, 3, 4], [5, 6, 7, 8]])\n",
    "\n",
    "for idx, x in np.ndenumerate(arr):\n",
    "  print(idx, x)"
   ]
  },
  {
   "cell_type": "markdown",
   "id": "6aca7a3a",
   "metadata": {},
   "source": [
    "# --ARRAY JOIN\n",
    "putting contents of two or more arrays in a single array.\n",
    "### JOINING TABLES\n",
    "## concatenate()\n",
    "along with the axis. If axis is not explicitly passed, it is taken as 0."
   ]
  },
  {
   "cell_type": "code",
   "execution_count": 16,
   "id": "3b80628e",
   "metadata": {},
   "outputs": [
    {
     "name": "stdout",
     "output_type": "stream",
     "text": [
      "[1 2 3 4 5 6]\n"
     ]
    }
   ],
   "source": [
    "\"\"\"join 2 arrays\"\"\"\n",
    "import numpy as np\n",
    "\n",
    "arr1 = np.array([1, 2, 3])\n",
    "\n",
    "arr2 = np.array([4, 5, 6])\n",
    "\n",
    "arr = np.concatenate((arr1, arr2))\n",
    "\n",
    "print(arr)"
   ]
  },
  {
   "cell_type": "code",
   "execution_count": 23,
   "id": "15aedc79",
   "metadata": {},
   "outputs": [
    {
     "name": "stdout",
     "output_type": "stream",
     "text": [
      "[[1 2 5 6]\n",
      " [3 4 7 8]]\n"
     ]
    }
   ],
   "source": [
    "\"\"\"Join two 2-D arrays along rows (axis=1):\"\"\"\n",
    "import numpy as np\n",
    "\n",
    "arr1 = np.array([[1, 2], [3, 4]])\n",
    "\n",
    "arr2 = np.array([[5, 6], [7, 8]])\n",
    "\n",
    "arr = np.concatenate((arr1, arr2), axis=1)\n",
    "\n",
    "print(arr)"
   ]
  },
  {
   "cell_type": "markdown",
   "id": "cce53202",
   "metadata": {},
   "source": [
    "# + Joining Arrays Using Stack Functions\n",
    "### STACKING ONE OVER THE OTHER\n",
    "## stack()\n",
    "same as concatenation, the only difference is that stacking is done along a new axis.\n",
    "\n",
    "We can concatenate two 1-D arrays along the second axis which **would result in putting them one over the other**\n",
    "\n",
    "We pass a sequence of arrays that we want to join to the stack() method along with the axis. If axis is not explicitly passed it is taken as 0."
   ]
  },
  {
   "cell_type": "code",
   "execution_count": 34,
   "id": "7d9c207e",
   "metadata": {},
   "outputs": [
    {
     "name": "stdout",
     "output_type": "stream",
     "text": [
      "[[1 4]\n",
      " [2 5]\n",
      " [3 6]]\n"
     ]
    }
   ],
   "source": [
    "import numpy as np\n",
    "\n",
    "arr1 = np.array([1, 2, 3])\n",
    "\n",
    "arr2 = np.array([4, 5, 6])\n",
    "\n",
    "arr = np.stack((arr1, arr2), axis=1)\n",
    "\n",
    "print(arr)"
   ]
  },
  {
   "cell_type": "markdown",
   "id": "d334b0ab",
   "metadata": {},
   "source": [
    "# + Stacking Along Rows\n",
    "### STACKING HORIZONTAL\n",
    "## hstack() \n",
    "to stack along rows."
   ]
  },
  {
   "cell_type": "code",
   "execution_count": 30,
   "id": "c0c6b659",
   "metadata": {},
   "outputs": [
    {
     "name": "stdout",
     "output_type": "stream",
     "text": [
      "[1 2 3 4 5 6]\n"
     ]
    }
   ],
   "source": [
    "import numpy as np\n",
    "\n",
    "arr1 = np.array([1, 2, 3])\n",
    "\n",
    "arr2 = np.array([4, 5, 6])\n",
    "\n",
    "arr = np.hstack((arr1, arr2))\n",
    "\n",
    "print(arr)"
   ]
  },
  {
   "cell_type": "markdown",
   "id": "e0c43043",
   "metadata": {},
   "source": [
    "# + Stacking Along Columns\n",
    "### STACKING VERTICAL\n",
    "## vstack()  \n",
    "to stack along columns."
   ]
  },
  {
   "cell_type": "code",
   "execution_count": 31,
   "id": "c50a98ba",
   "metadata": {},
   "outputs": [
    {
     "name": "stdout",
     "output_type": "stream",
     "text": [
      "[[1 2 3]\n",
      " [4 5 6]]\n"
     ]
    }
   ],
   "source": [
    "import numpy as np\n",
    "\n",
    "arr1 = np.array([1, 2, 3])\n",
    "\n",
    "arr2 = np.array([4, 5, 6])\n",
    "\n",
    "arr = np.vstack((arr1, arr2))\n",
    "\n",
    "print(arr)"
   ]
  },
  {
   "cell_type": "markdown",
   "id": "7121d9ec",
   "metadata": {},
   "source": [
    "# + Stacking Along Height (depth)\n",
    "## dstack() \n",
    "to stack along height, which is the same as depth."
   ]
  },
  {
   "cell_type": "code",
   "execution_count": 35,
   "id": "7f8e79ca",
   "metadata": {},
   "outputs": [
    {
     "name": "stdout",
     "output_type": "stream",
     "text": [
      "[[[1 4]\n",
      "  [2 5]\n",
      "  [3 6]]]\n"
     ]
    }
   ],
   "source": [
    "import numpy as np\n",
    "\n",
    "arr1 = np.array([1, 2, 3])\n",
    "\n",
    "arr2 = np.array([4, 5, 6])\n",
    "\n",
    "arr = np.dstack((arr1, arr2))\n",
    "\n",
    "print(arr)"
   ]
  },
  {
   "cell_type": "markdown",
   "id": "b239dfd2",
   "metadata": {},
   "source": [
    "# --SPLITTING NP ARRAY\n",
    "Splitting is reverse operation of Joining.\n",
    "\n",
    "Joining merges multiple arrays into one and Splitting breaks one array into multiple.\n",
    "\n",
    "We use **array_split()** for splitting arrays, we **pass it the array we want to split and the number of splits.**\n",
    "## array_split()"
   ]
  },
  {
   "cell_type": "code",
   "execution_count": 1,
   "id": "7ddc7ea4",
   "metadata": {},
   "outputs": [
    {
     "name": "stdout",
     "output_type": "stream",
     "text": [
      "[array([1, 2]), array([3, 4]), array([5, 6])]\n"
     ]
    }
   ],
   "source": [
    "\"\"\"Split the array in 3 parts:\"\"\"\n",
    "import numpy as np\n",
    "\n",
    "arr = np.array([1, 2, 3, 4, 5, 6])\n",
    "\n",
    "newarr = np.array_split(arr, 3)\n",
    "\n",
    "print(newarr) # The return value is an array containing three arrays."
   ]
  },
  {
   "cell_type": "code",
   "execution_count": 2,
   "id": "534bd977",
   "metadata": {},
   "outputs": [
    {
     "name": "stdout",
     "output_type": "stream",
     "text": [
      "[array([1, 2]), array([3, 4]), array([5]), array([6])]\n"
     ]
    }
   ],
   "source": [
    "\"\"\"split array in 4 parts\"\"\"\n",
    "import numpy as np\n",
    "\n",
    "arr = np.array([1, 2, 3, 4, 5, 6])\n",
    "\n",
    "newarr = np.array_split(arr, 4)\n",
    "\n",
    "print(newarr)"
   ]
  },
  {
   "cell_type": "markdown",
   "id": "b88d38a4",
   "metadata": {},
   "source": [
    "**split()** is also used but, if arrays are not equals, it would fail, that's why you use **array_split()**"
   ]
  },
  {
   "cell_type": "code",
   "execution_count": 5,
   "id": "e73f8d76",
   "metadata": {},
   "outputs": [
    {
     "name": "stdout",
     "output_type": "stream",
     "text": [
      "[array([[1, 2],\n",
      "       [3, 4]]), array([[5, 6],\n",
      "       [7, 8]]), array([[ 9, 10],\n",
      "       [11, 12]])]\n"
     ]
    }
   ],
   "source": [
    "\"\"\"Split the 2-D array into three 2-D arrays.\"\"\"\n",
    "import numpy as np\n",
    "\n",
    "arr = np.array([[1, 2], [3, 4], [5, 6], [7, 8], [9, 10], [11, 12]])\n",
    "\n",
    "newarr = np.array_split(arr, 3)\n",
    "\n",
    "print(newarr)"
   ]
  },
  {
   "cell_type": "code",
   "execution_count": 6,
   "id": "21ffd6ae",
   "metadata": {},
   "outputs": [
    {
     "name": "stdout",
     "output_type": "stream",
     "text": [
      "[array([[1, 2, 3],\n",
      "       [4, 5, 6]]), array([[ 7,  8,  9],\n",
      "       [10, 11, 12]]), array([[13, 14, 15],\n",
      "       [16, 17, 18]])]\n"
     ]
    }
   ],
   "source": [
    "\"\"\"Split the 2-D array into three 2-D arrays.\"\"\"\n",
    "import numpy as np\n",
    "\n",
    "arr = np.array([[1, 2, 3], [4, 5, 6], [7, 8, 9], [10, 11, 12], [13, 14, 15], [16, 17, 18]])\n",
    "\n",
    "newarr = np.array_split(arr, 3)\n",
    "\n",
    "print(newarr)"
   ]
  },
  {
   "cell_type": "markdown",
   "id": "2813fe95",
   "metadata": {},
   "source": [
    "# + access splitted arrays"
   ]
  },
  {
   "cell_type": "code",
   "execution_count": 3,
   "id": "59aa9457",
   "metadata": {},
   "outputs": [
    {
     "name": "stdout",
     "output_type": "stream",
     "text": [
      "[1 2]\n",
      "[3 4]\n",
      "[5 6]\n"
     ]
    }
   ],
   "source": [
    "import numpy as np\n",
    "\n",
    "arr = np.array([1, 2, 3, 4, 5, 6])\n",
    "\n",
    "newarr = np.array_split(arr, 3)\n",
    "\n",
    "print(newarr[0])\n",
    "print(newarr[1])\n",
    "print(newarr[2])"
   ]
  },
  {
   "cell_type": "code",
   "execution_count": 4,
   "id": "4a2b24f0",
   "metadata": {},
   "outputs": [
    {
     "name": "stdout",
     "output_type": "stream",
     "text": [
      "[array([[1, 2],\n",
      "       [3, 4]]), array([[5, 6],\n",
      "       [7, 8]]), array([[ 9, 10],\n",
      "       [11, 12]])]\n"
     ]
    }
   ],
   "source": []
  },
  {
   "cell_type": "markdown",
   "id": "b618452b",
   "metadata": {},
   "source": [
    "# + split Alog Rows \n",
    "## axis ="
   ]
  },
  {
   "cell_type": "code",
   "execution_count": 14,
   "id": "8e27fdbf",
   "metadata": {},
   "outputs": [
    {
     "name": "stdout",
     "output_type": "stream",
     "text": [
      "[array([[ 1],\n",
      "       [ 4],\n",
      "       [ 7],\n",
      "       [10],\n",
      "       [13],\n",
      "       [16]]), array([[ 2],\n",
      "       [ 5],\n",
      "       [ 8],\n",
      "       [11],\n",
      "       [14],\n",
      "       [17]]), array([[ 3],\n",
      "       [ 6],\n",
      "       [ 9],\n",
      "       [12],\n",
      "       [15],\n",
      "       [18]])]\n"
     ]
    }
   ],
   "source": [
    "\"\"\"Split the 2-D array into three 2-D arrays along rows.\n",
    "\n",
    "\"\"\"\n",
    "import numpy as np\n",
    "\n",
    "arr = np.array([[1, 2, 3], [4, 5, 6], [7, 8, 9], [10, 11, 12], [13, 14, 15], [16, 17, 18]])\n",
    "\n",
    "newarr = np.array_split(arr, 3, axis=1)\n",
    "\n",
    "print(newarr)"
   ]
  },
  {
   "cell_type": "markdown",
   "id": "4a04270f",
   "metadata": {},
   "source": [
    "### + alternate solution is using\n",
    "## hsplit() or vsplit()"
   ]
  },
  {
   "cell_type": "code",
   "execution_count": 15,
   "id": "ac5d8bbd",
   "metadata": {},
   "outputs": [
    {
     "name": "stdout",
     "output_type": "stream",
     "text": [
      "[array([[ 1],\n",
      "       [ 4],\n",
      "       [ 7],\n",
      "       [10],\n",
      "       [13],\n",
      "       [16]]), array([[ 2],\n",
      "       [ 5],\n",
      "       [ 8],\n",
      "       [11],\n",
      "       [14],\n",
      "       [17]]), array([[ 3],\n",
      "       [ 6],\n",
      "       [ 9],\n",
      "       [12],\n",
      "       [15],\n",
      "       [18]])]\n"
     ]
    }
   ],
   "source": [
    "import numpy as np\n",
    "\n",
    "arr = np.array([[1, 2, 3], [4, 5, 6], [7, 8, 9], [10, 11, 12], [13, 14, 15], [16, 17, 18]])\n",
    "\n",
    "newarr = np.hsplit(arr, 3)\n",
    "\n",
    "print(newarr)"
   ]
  },
  {
   "cell_type": "code",
   "execution_count": 16,
   "id": "46d18727",
   "metadata": {},
   "outputs": [
    {
     "name": "stdout",
     "output_type": "stream",
     "text": [
      "[array([[1, 2, 3],\n",
      "       [4, 5, 6]]), array([[ 7,  8,  9],\n",
      "       [10, 11, 12]]), array([[13, 14, 15],\n",
      "       [16, 17, 18]])]\n"
     ]
    }
   ],
   "source": [
    "import numpy as np\n",
    "\n",
    "arr = np.array([[1, 2, 3], [4, 5, 6], [7, 8, 9], [10, 11, 12], [13, 14, 15], [16, 17, 18]])\n",
    "\n",
    "newarr = np.vsplit(arr, 3)\n",
    "\n",
    "print(newarr)"
   ]
  },
  {
   "cell_type": "markdown",
   "id": "976c1bbe",
   "metadata": {},
   "source": [
    "# --SEARCHING ARRAYS\n",
    "You can search an array for a certain value, and return the indexes that get a match.\n",
    "\n",
    "To search an array, use the **where()** method.\n",
    "## where()\n",
    "#### value is 4"
   ]
  },
  {
   "cell_type": "code",
   "execution_count": 17,
   "id": "74ef726e",
   "metadata": {},
   "outputs": [
    {
     "name": "stdout",
     "output_type": "stream",
     "text": [
      "(array([3, 5, 6], dtype=int64),)\n"
     ]
    }
   ],
   "source": [
    "\"\"\"Find the indexes where the value is 4:\"\"\"\n",
    "import numpy as np\n",
    "\n",
    "arr = np.array([1, 2, 3, 4, 5, 4, 4])\n",
    "\n",
    "x = np.where(arr == 4)\n",
    "\n",
    "print(x) #value 4 is represented in indexis BELOW"
   ]
  },
  {
   "cell_type": "markdown",
   "id": "6296ef51",
   "metadata": {},
   "source": [
    "#### values are even "
   ]
  },
  {
   "cell_type": "code",
   "execution_count": 18,
   "id": "1f7d5788",
   "metadata": {},
   "outputs": [
    {
     "name": "stdout",
     "output_type": "stream",
     "text": [
      "(array([1, 3, 5, 7], dtype=int64),)\n"
     ]
    }
   ],
   "source": [
    "import numpy as np\n",
    "\n",
    "arr = np.array([1, 2, 3, 4, 5, 6, 7, 8])\n",
    "\n",
    "x = np.where(arr%2 == 0)\n",
    "\n",
    "print(x)"
   ]
  },
  {
   "cell_type": "markdown",
   "id": "cda20082",
   "metadata": {},
   "source": [
    "#### values are odd"
   ]
  },
  {
   "cell_type": "code",
   "execution_count": 19,
   "id": "d76edca8",
   "metadata": {},
   "outputs": [
    {
     "name": "stdout",
     "output_type": "stream",
     "text": [
      "(array([0, 2, 4, 6], dtype=int64),)\n"
     ]
    }
   ],
   "source": [
    "import numpy as np\n",
    "\n",
    "arr = np.array([1, 2, 3, 4, 5, 6, 7, 8])\n",
    "\n",
    "x = np.where(arr%2 == 1)\n",
    "\n",
    "print(x)"
   ]
  },
  {
   "cell_type": "markdown",
   "id": "6443d861",
   "metadata": {},
   "source": [
    "# + Search Sorted \n",
    "performs a binary search in the array, and returns the index where the specified value would be inserted **to maintain the search order.**\n",
    "#### where value 7 should be inserted"
   ]
  },
  {
   "cell_type": "code",
   "execution_count": 20,
   "id": "da729408",
   "metadata": {},
   "outputs": [
    {
     "name": "stdout",
     "output_type": "stream",
     "text": [
      "1\n"
     ]
    }
   ],
   "source": [
    "import numpy as np\n",
    "\n",
    "arr = np.array([6, 7, 8, 9])\n",
    "\n",
    "x = np.searchsorted(arr, 7)\n",
    "\n",
    "print(x)"
   ]
  },
  {
   "cell_type": "markdown",
   "id": "fab35089",
   "metadata": {},
   "source": [
    "# + Search From the (Right Side)\n",
    "By default the left most index is returned, but we can give **side='right' to return the right most index instead.**\n",
    "#### where the value 7 should be inserted, starting from the right:"
   ]
  },
  {
   "cell_type": "code",
   "execution_count": 21,
   "id": "2ff8fb1a",
   "metadata": {},
   "outputs": [
    {
     "name": "stdout",
     "output_type": "stream",
     "text": [
      "2\n"
     ]
    }
   ],
   "source": [
    "import numpy as np\n",
    "\n",
    "arr = np.array([6, 7, 8, 9])\n",
    "\n",
    "x = np.searchsorted(arr, 7, side='right')\n",
    "\n",
    "print(x)"
   ]
  },
  {
   "cell_type": "markdown",
   "id": "edbd0a84",
   "metadata": {},
   "source": [
    "# + Search MULTIPLE values\n",
    "To search for more than one value, **use an array with the specified values.**\n",
    "#### where the values 2, 4, and 6 should be inserted:"
   ]
  },
  {
   "cell_type": "code",
   "execution_count": 25,
   "id": "9d48363c",
   "metadata": {},
   "outputs": [
    {
     "name": "stdout",
     "output_type": "stream",
     "text": [
      "[1 2 3]\n"
     ]
    }
   ],
   "source": [
    "import numpy as np\n",
    "\n",
    "arr = np.array([1, 3, 5, 7])\n",
    "\n",
    "x = np.searchsorted(arr, [2, 4, 6])\n",
    "\n",
    "print(x)"
   ]
  },
  {
   "cell_type": "markdown",
   "id": "410188ac",
   "metadata": {},
   "source": [
    "# --SORTING ARRAYS\n",
    "means putting elements in an ordered sequence.any sequence that has an order corresponding to elements, like numeric or alphabetical, ascending or descending.\n",
    "## sort()"
   ]
  },
  {
   "cell_type": "code",
   "execution_count": 26,
   "id": "95fd2387",
   "metadata": {},
   "outputs": [
    {
     "name": "stdout",
     "output_type": "stream",
     "text": [
      "[0 1 2 3]\n"
     ]
    }
   ],
   "source": [
    "import numpy as np\n",
    "\n",
    "arr = np.array([3, 2, 0, 1])\n",
    "\n",
    "print(np.sort(arr))"
   ]
  },
  {
   "cell_type": "markdown",
   "id": "b765dfb0",
   "metadata": {},
   "source": [
    "#### $ This method returns a copy of the array, leaving the original array unchanged."
   ]
  },
  {
   "cell_type": "markdown",
   "id": "6262c396",
   "metadata": {},
   "source": [
    "#### Sort the array alphabetically"
   ]
  },
  {
   "cell_type": "code",
   "execution_count": 27,
   "id": "f577efcd",
   "metadata": {},
   "outputs": [
    {
     "name": "stdout",
     "output_type": "stream",
     "text": [
      "['apple' 'banana' 'cherry']\n"
     ]
    }
   ],
   "source": [
    "import numpy as np\n",
    "\n",
    "arr = np.array(['banana', 'cherry', 'apple'])\n",
    "\n",
    "print(np.sort(arr))"
   ]
  },
  {
   "cell_type": "markdown",
   "id": "9304a51a",
   "metadata": {},
   "source": [
    "#### sort bool array"
   ]
  },
  {
   "cell_type": "code",
   "execution_count": 28,
   "id": "8cf7e08f",
   "metadata": {},
   "outputs": [
    {
     "name": "stdout",
     "output_type": "stream",
     "text": [
      "[False  True  True]\n"
     ]
    }
   ],
   "source": [
    "import numpy as np\n",
    "\n",
    "arr = np.array([True, False, True])\n",
    "\n",
    "print(np.sort(arr))"
   ]
  },
  {
   "cell_type": "markdown",
   "id": "87daad19",
   "metadata": {},
   "source": [
    "####  2-D array, both arrays will be sorted separetly:"
   ]
  },
  {
   "cell_type": "code",
   "execution_count": 29,
   "id": "e2cb58a3",
   "metadata": {},
   "outputs": [
    {
     "name": "stdout",
     "output_type": "stream",
     "text": [
      "[[2 3 4]\n",
      " [0 1 5]]\n"
     ]
    }
   ],
   "source": [
    "import numpy as np\n",
    "\n",
    "arr = np.array([[3, 2, 4], [5, 0, 1]])\n",
    "\n",
    "print(np.sort(arr))"
   ]
  },
  {
   "cell_type": "markdown",
   "id": "41dbd77f",
   "metadata": {},
   "source": [
    "# --FILTERING ARRAYS\n",
    "Getting some elements out of an existing array and **creating a new array** out of them is called filtering.\n",
    "\n",
    "In NumPy, you filter an array using a boolean index list.\n",
    "\n",
    "**if the value at that index is False that element is excluded from the filtered array.**"
   ]
  },
  {
   "cell_type": "code",
   "execution_count": 30,
   "id": "b839735d",
   "metadata": {},
   "outputs": [
    {
     "name": "stdout",
     "output_type": "stream",
     "text": [
      "[41 43]\n"
     ]
    }
   ],
   "source": [
    "import numpy as np\n",
    "\n",
    "arr = np.array([41, 42, 43, 44])\n",
    "\n",
    "x = [True, False, True, False]\n",
    "\n",
    "newarr = arr[x]\n",
    "\n",
    "print(newarr)"
   ]
  },
  {
   "cell_type": "markdown",
   "id": "09bcefa2",
   "metadata": {},
   "source": [
    "# + Creating the Filter Array\n",
    "## .append(True)\n",
    "\n",
    " ##### $ CREATE AN EMPTY LIST TO FILTER AND GENERATE THE NEW ONE\n",
    "#### filter that return only values higher than 42:"
   ]
  },
  {
   "cell_type": "code",
   "execution_count": 31,
   "id": "a730cc25",
   "metadata": {},
   "outputs": [
    {
     "name": "stdout",
     "output_type": "stream",
     "text": [
      "[False, False, True, True]\n",
      "[43 44]\n"
     ]
    }
   ],
   "source": [
    "import numpy as np\n",
    "\n",
    "arr = np.array([41, 42, 43, 44])\n",
    "\n",
    "# Create an empty list\n",
    "filter_arr = []\n",
    "\n",
    "# go through each element in arr\n",
    "for element in arr:\n",
    "  # if the element is higher than 42, set the value to True, otherwise False:\n",
    "  if element > 42:\n",
    "    filter_arr.append(True)\n",
    "  else:\n",
    "    filter_arr.append(False)\n",
    "\n",
    "newarr = arr[filter_arr]\n",
    "\n",
    "print(filter_arr)\n",
    "print(newarr)"
   ]
  },
  {
   "cell_type": "markdown",
   "id": "5f3d5af5",
   "metadata": {},
   "source": [
    "#### filter that return even from original :"
   ]
  },
  {
   "cell_type": "code",
   "execution_count": 34,
   "id": "d6d1b3e0",
   "metadata": {},
   "outputs": [
    {
     "name": "stdout",
     "output_type": "stream",
     "text": [
      "[False, True, False, True, False, True, False]\n",
      "[2 4 6]\n"
     ]
    }
   ],
   "source": [
    "import numpy as np\n",
    "\n",
    "arr = np.array([1, 2, 3, 4, 5, 6, 7])\n",
    "\n",
    "# Create an empty list\n",
    "filter_arr = []\n",
    "\n",
    "# go through each element in arr\n",
    "for element in arr:\n",
    "  # if the element is completely divisble by 2, set the value to True, otherwise False\n",
    "  if element % 2 == 0:\n",
    "    filter_arr.append(True)\n",
    "  else:\n",
    "    filter_arr.append(False)\n",
    "\n",
    "newarr = arr[filter_arr]\n",
    "\n",
    "print(filter_arr) #par\n",
    "print(newarr)"
   ]
  },
  {
   "cell_type": "markdown",
   "id": "154b06f0",
   "metadata": {},
   "source": [
    "# + Filter Directly From Array"
   ]
  },
  {
   "cell_type": "markdown",
   "id": "2566a12c",
   "metadata": {},
   "source": [
    "####  filter array that will return only values higher than 42:"
   ]
  },
  {
   "cell_type": "code",
   "execution_count": 35,
   "id": "d971a91a",
   "metadata": {},
   "outputs": [
    {
     "name": "stdout",
     "output_type": "stream",
     "text": [
      "[False False  True  True]\n",
      "[43 44]\n"
     ]
    }
   ],
   "source": [
    "import numpy as np\n",
    "\n",
    "arr = np.array([41, 42, 43, 44])\n",
    "\n",
    "filter_arr = arr > 42\n",
    "\n",
    "newarr = arr[filter_arr]\n",
    "\n",
    "print(filter_arr)\n",
    "print(newarr)"
   ]
  },
  {
   "cell_type": "markdown",
   "id": "3e72082c",
   "metadata": {},
   "source": [
    "#### filter return even from the original :"
   ]
  },
  {
   "cell_type": "code",
   "execution_count": 39,
   "id": "8d90f79e",
   "metadata": {},
   "outputs": [
    {
     "name": "stdout",
     "output_type": "stream",
     "text": [
      "[False  True False  True False  True False]\n",
      "[2 4 6]\n"
     ]
    }
   ],
   "source": [
    "import numpy as np\n",
    "\n",
    "arr = np.array([1, 2, 3, 4, 5, 6, 7])\n",
    "\n",
    "filter_arr = arr % 2 == 0 # to be odd , must be = 1\n",
    "\n",
    "newarr = arr[filter_arr]\n",
    "\n",
    "print(filter_arr)\n",
    "print(newarr) #par"
   ]
  },
  {
   "cell_type": "markdown",
   "id": "0eee8d45",
   "metadata": {},
   "source": [
    "# -- NP RANDOM\n",
    "## random.randint()\n",
    "#### random integer from 0 to 100:"
   ]
  },
  {
   "cell_type": "code",
   "execution_count": 43,
   "id": "228f1e6f",
   "metadata": {},
   "outputs": [
    {
     "name": "stdout",
     "output_type": "stream",
     "text": [
      "18\n"
     ]
    }
   ],
   "source": [
    "from numpy import random\n",
    "\n",
    "x = random.randint(100)\n",
    "\n",
    "print(x)"
   ]
  },
  {
   "cell_type": "markdown",
   "id": "cd31fadf",
   "metadata": {},
   "source": [
    "## random.rand()\n",
    "#### random float between 0 & 1:\n",
    "rand = float"
   ]
  },
  {
   "cell_type": "code",
   "execution_count": 42,
   "id": "1e5c2e41",
   "metadata": {},
   "outputs": [
    {
     "name": "stdout",
     "output_type": "stream",
     "text": [
      "0.7002959036904457\n"
     ]
    }
   ],
   "source": [
    "from numpy import random\n",
    "\n",
    "x = random.rand()\n",
    "\n",
    "print(x)"
   ]
  },
  {
   "cell_type": "markdown",
   "id": "9e966da1",
   "metadata": {},
   "source": [
    "# + Random Array\n",
    "The randint() method takes a size parameter where you can specify the shape of an array.\n",
    "## must specify size = ()\n",
    "#### 1D\n",
    "#####  1-D array containing 5 random integers from 0 to 100:"
   ]
  },
  {
   "cell_type": "code",
   "execution_count": 44,
   "id": "bcf95023",
   "metadata": {},
   "outputs": [
    {
     "name": "stdout",
     "output_type": "stream",
     "text": [
      "[69 93 53 31 90]\n"
     ]
    }
   ],
   "source": [
    "from numpy import random\n",
    "\n",
    "x=random.randint(100, size=(5))\n",
    "\n",
    "print(x)"
   ]
  },
  {
   "cell_type": "markdown",
   "id": "7f2b0eeb",
   "metadata": {},
   "source": [
    "#### 1D FLOATS\n",
    "#### 1-D array containing 5 random floats:"
   ]
  },
  {
   "cell_type": "code",
   "execution_count": 46,
   "id": "a1a0ce86",
   "metadata": {},
   "outputs": [
    {
     "name": "stdout",
     "output_type": "stream",
     "text": [
      "[0.58767362 0.70972648 0.5562956  0.34813702 0.71558768]\n"
     ]
    }
   ],
   "source": [
    "from numpy import random\n",
    "\n",
    "x = random.rand(5)\n",
    "\n",
    "print(x)"
   ]
  },
  {
   "cell_type": "markdown",
   "id": "f8348f78",
   "metadata": {},
   "source": [
    "#### 2D\n",
    "##### 2-D array with 3 rows, each row containing 5 random integers from 0 to 100:"
   ]
  },
  {
   "cell_type": "code",
   "execution_count": 45,
   "id": "c327b9a6",
   "metadata": {},
   "outputs": [
    {
     "name": "stdout",
     "output_type": "stream",
     "text": [
      "[[45 33  0 19 51]\n",
      " [69 33 71 64 96]\n",
      " [39 92 33 25 53]]\n"
     ]
    }
   ],
   "source": [
    "from numpy import random\n",
    "\n",
    "x = random.randint(100, size=(3, 5))\n",
    "\n",
    "print(x)"
   ]
  },
  {
   "cell_type": "markdown",
   "id": "04d2e963",
   "metadata": {},
   "source": [
    "#### 2D FLOATS\n",
    "#### 2-D array with 3 rows, each row containing 5 random numbers:"
   ]
  },
  {
   "cell_type": "code",
   "execution_count": 48,
   "id": "cf8daf97",
   "metadata": {},
   "outputs": [
    {
     "name": "stdout",
     "output_type": "stream",
     "text": [
      "[[0.39414862 0.58165408 0.23803276 0.98791158 0.64976865]\n",
      " [0.52632561 0.47114789 0.77029162 0.12501926 0.06347396]\n",
      " [0.0932524  0.74742309 0.61104875 0.71189398 0.80083836]]\n"
     ]
    }
   ],
   "source": [
    "from numpy import random\n",
    "\n",
    "x = random.rand(3, 5) # 3 rows, 5elements each\n",
    "\n",
    "print(x)"
   ]
  },
  {
   "cell_type": "markdown",
   "id": "e729e709",
   "metadata": {},
   "source": [
    "# + Random Number From Array\n",
    "## random.choice()"
   ]
  },
  {
   "cell_type": "code",
   "execution_count": 49,
   "id": "f2c7562a",
   "metadata": {},
   "outputs": [
    {
     "name": "stdout",
     "output_type": "stream",
     "text": [
      "3\n"
     ]
    }
   ],
   "source": [
    "from numpy import random\n",
    "\n",
    "x = random.choice([3, 5, 7, 9])\n",
    "\n",
    "print(x)"
   ]
  },
  {
   "cell_type": "markdown",
   "id": "0063e8c6",
   "metadata": {},
   "source": [
    "#### 2-D array that consists of the values in the array parameter (3, 5, 7, and 9):"
   ]
  },
  {
   "cell_type": "code",
   "execution_count": 50,
   "id": "30ca1c17",
   "metadata": {},
   "outputs": [
    {
     "name": "stdout",
     "output_type": "stream",
     "text": [
      "[[7 9 9 3 5]\n",
      " [9 5 5 5 9]\n",
      " [9 7 7 3 5]]\n"
     ]
    }
   ],
   "source": [
    "from numpy import random\n",
    "\n",
    "x = random.choice([3, 5, 7, 9], size=(3, 5))\n",
    "\n",
    "print(x)"
   ]
  },
  {
   "cell_type": "markdown",
   "id": "834dbe6c",
   "metadata": {},
   "source": [
    "# --RANDOM---\n",
    "# --DATA DISTRIBUTION\n",
    "list of all possible values, and how often each value occurs.important when working with statistics and data science."
   ]
  },
  {
   "cell_type": "markdown",
   "id": "f47400ce",
   "metadata": {},
   "source": [
    "# + Random Distribution\n",
    "describes a continuous probability.We can generate random numbers based on defined probabilities using the choice() method of the random module.\n",
    "\n",
    "The choice() method allows us to specify the probability for each value.\n",
    "\n",
    "**probability is set by a number between 0 and 1**\n",
    "## random.choice()\n",
    "#### 1-D array containing 100 values, where each value has to be 3, 5, 7 or 9.\n",
    "The probability for the value to be 3 is set to be 0.1\n",
    "\n",
    "The probability for the value to be 5 is set to be 0.3\n",
    "\n",
    "The probability for the value to be 7 is set to be 0.6\n",
    "\n",
    "The probability for the value to be 9 is set to be 0"
   ]
  },
  {
   "cell_type": "code",
   "execution_count": 51,
   "id": "748c4c3f",
   "metadata": {},
   "outputs": [
    {
     "name": "stdout",
     "output_type": "stream",
     "text": [
      "[7 5 7 3 7 5 7 7 5 7 5 5 5 7 7 7 5 7 3 7 5 7 5 7 7 7 7 7 5 5 5 7 5 7 3 7 5\n",
      " 7 5 5 7 3 5 5 7 3 5 7 7 5 7 3 7 5 7 7 7 7 7 5 5 7 7 7 5 5 5 5 7 7 7 3 7 7\n",
      " 7 7 7 7 7 7 5 7 7 5 5 5 5 5 3 3 7 5 3 7 7 5 5 7 7 7]\n"
     ]
    }
   ],
   "source": [
    "from numpy import random\n",
    "\n",
    "x = random.choice([3, 5, 7, 9], p=[0.1, 0.3, 0.6, 0.0], size=(100))\n",
    "\n",
    "print(x)"
   ]
  },
  {
   "cell_type": "code",
   "execution_count": 53,
   "id": "5f6d4c23",
   "metadata": {},
   "outputs": [
    {
     "name": "stdout",
     "output_type": "stream",
     "text": [
      "[[5 7 3 7 7]\n",
      " [7 7 7 7 7]\n",
      " [7 7 5 3 7]]\n"
     ]
    }
   ],
   "source": [
    "\"\"\"Same example as above, but return a 2-D array with 3 rows, each containing 5 values.\"\"\"\n",
    "from numpy import random\n",
    "\n",
    "x = random.choice([3, 5, 7, 9], p=[0.1, 0.3, 0.6, 0.0], size=(3,5))\n",
    "\n",
    "print(x)"
   ]
  },
  {
   "cell_type": "markdown",
   "id": "5959137b",
   "metadata": {},
   "source": [
    "# --RANDOM PERMUTATION\n",
    "refers to an arrangement of elements. e.g. [3, 2, 1] is a permutation of [1, 2, 3] and vice-versa.\n",
    "\n",
    "The NumPy Random module provides two methods for this: **shuffle()** and **permutation().**"
   ]
  },
  {
   "cell_type": "markdown",
   "id": "d239ad62",
   "metadata": {},
   "source": [
    "#### Randomly shuffle elements of following array:\n",
    "## random.shuffle()\n",
    "$ MAKES CHANGES TO ORIGINAL ARRAY"
   ]
  },
  {
   "cell_type": "code",
   "execution_count": 59,
   "id": "a25094ca",
   "metadata": {},
   "outputs": [
    {
     "name": "stdout",
     "output_type": "stream",
     "text": [
      "shuffeled : [3 2 5 1 4]\n"
     ]
    }
   ],
   "source": [
    "from numpy import random\n",
    "import numpy as np\n",
    "\n",
    "arr = np.array([1, 2, 3, 4, 5])\n",
    "\n",
    "random.shuffle(arr)\n",
    "\n",
    "print(\"shuffeled :\",arr)"
   ]
  },
  {
   "cell_type": "markdown",
   "id": "8741ceac",
   "metadata": {},
   "source": [
    "\n",
    "## random.permutation()\n",
    "$ LEAVES **THE ORIGINAL UN-CHANGED**"
   ]
  },
  {
   "cell_type": "code",
   "execution_count": 58,
   "id": "dae1d5a0",
   "metadata": {},
   "outputs": [
    {
     "name": "stdout",
     "output_type": "stream",
     "text": [
      "permutation : [2 1 4 3 5]\n",
      "original : [1 2 3 4 5]\n"
     ]
    }
   ],
   "source": [
    "from numpy import random\n",
    "import numpy as np\n",
    "\n",
    "arr = np.array([1, 2, 3, 4, 5])\n",
    "\n",
    "print(\"permutation :\",random.permutation(arr))\n",
    "print(\"original :\",arr)"
   ]
  },
  {
   "cell_type": "markdown",
   "id": "556dff75",
   "metadata": {},
   "source": [
    "# --SEA BORN MODULE (visualization)\n",
    " to visualize random distributions"
   ]
  },
  {
   "cell_type": "markdown",
   "id": "3bd53506",
   "metadata": {},
   "source": [
    "## % installation"
   ]
  },
  {
   "cell_type": "markdown",
   "id": "19294725",
   "metadata": {},
   "source": [
    "C:\\Users\\Your Name>pip install seaborn\n",
    "\"\"\"IF YOU USE JUPYTER \"\"\"\n",
    "C:\\Users\\Your Name>!pip install seaborn"
   ]
  },
  {
   "cell_type": "markdown",
   "id": "a569f30e",
   "metadata": {},
   "source": [
    "## % import"
   ]
  },
  {
   "cell_type": "markdown",
   "id": "7aad9fa0",
   "metadata": {},
   "source": [
    "import matplotlib.pyplot as plt\n",
    "import seaborn as sns"
   ]
  },
  {
   "cell_type": "markdown",
   "id": "2a0e11cc",
   "metadata": {},
   "source": [
    "# + Plotting a Distplot\n",
    "## sns.distplot([])"
   ]
  },
  {
   "cell_type": "code",
   "execution_count": 60,
   "id": "5865c036",
   "metadata": {},
   "outputs": [
    {
     "name": "stderr",
     "output_type": "stream",
     "text": [
      "C:\\Users\\User\\Documents\\anaconda3\\lib\\site-packages\\seaborn\\distributions.py:2619: FutureWarning: `distplot` is a deprecated function and will be removed in a future version. Please adapt your code to use either `displot` (a figure-level function with similar flexibility) or `histplot` (an axes-level function for histograms).\n",
      "  warnings.warn(msg, FutureWarning)\n"
     ]
    },
    {
     "data": {
      "image/png": "[encoded data removed]",
      "text/plain": [
       "<Figure size 432x288 with 1 Axes>"
      ]
     },
     "metadata": {
      "needs_background": "light"
     },
     "output_type": "display_data"
    }
   ],
   "source": [
    "import matplotlib.pyplot as plt\n",
    "import seaborn as sns\n",
    "\n",
    "sns.distplot([0, 1, 2, 3, 4, 5])\n",
    "\n",
    "plt.show()"
   ]
  },
  {
   "cell_type": "markdown",
   "id": "cdfd5730",
   "metadata": {},
   "source": [
    "#### plotting without histogram"
   ]
  },
  {
   "cell_type": "code",
   "execution_count": 61,
   "id": "f09ecc33",
   "metadata": {},
   "outputs": [
    {
     "name": "stderr",
     "output_type": "stream",
     "text": [
      "C:\\Users\\User\\Documents\\anaconda3\\lib\\site-packages\\seaborn\\distributions.py:2619: FutureWarning: `distplot` is a deprecated function and will be removed in a future version. Please adapt your code to use either `displot` (a figure-level function with similar flexibility) or `kdeplot` (an axes-level function for kernel density plots).\n",
      "  warnings.warn(msg, FutureWarning)\n"
     ]
    },
    {
     "data": {
      "image/png": "[encoded data removed]",
      "text/plain": [
       "<Figure size 432x288 with 1 Axes>"
      ]
     },
     "metadata": {
      "needs_background": "light"
     },
     "output_type": "display_data"
    }
   ],
   "source": [
    "import matplotlib.pyplot as plt\n",
    "import seaborn as sns\n",
    "\n",
    "sns.distplot([0, 1, 2, 3, 4, 5], hist=False)\n",
    "\n",
    "plt.show()"
   ]
  },
  {
   "cell_type": "markdown",
   "id": "08cbf139",
   "metadata": {},
   "source": [
    "# --NORMAL DISTRIBUTION\n",
    "also called the Gaussian Distributio\n",
    "\n",
    "Use the **random.normal()** method to get a Normal Data Distribution.\n",
    "\n",
    "~ It has three parameters:\n",
    "\n",
    "- loc - (Mean) where the peak of the bell exists.\n",
    "\n",
    "- scale - (Standard Deviation) how flat the graph distribution should be.\n",
    "\n",
    "- size - The shape of the returned array."
   ]
  },
  {
   "cell_type": "code",
   "execution_count": 62,
   "id": "6fa786a2",
   "metadata": {},
   "outputs": [
    {
     "name": "stdout",
     "output_type": "stream",
     "text": [
      "[[-1.6051476  -0.31856101 -0.47977361]\n",
      " [ 0.59116298  0.57279368  0.34544431]]\n"
     ]
    }
   ],
   "source": [
    "\"\"\"random normal distribution of size 2x3:\"\"\"\n",
    "from numpy import random\n",
    "\n",
    "x = random.normal(size=(2, 3))\n",
    "\n",
    "print(x)"
   ]
  },
  {
   "cell_type": "code",
   "execution_count": 64,
   "id": "f71acb2f",
   "metadata": {},
   "outputs": [
    {
     "name": "stdout",
     "output_type": "stream",
     "text": [
      "[[ 1.19790247 -0.03326838  3.85337374]\n",
      " [ 0.67846405  0.86105337  2.23508943]]\n"
     ]
    }
   ],
   "source": [
    "\"\"\"normal distribution of size 2x3 with mean at 1 and standard deviation of 2:\"\"\"\n",
    "from numpy import random\n",
    "\n",
    "x = random.normal(loc=1, scale=2, size=(2,3))\n",
    "\n",
    "print(x)"
   ]
  },
  {
   "cell_type": "markdown",
   "id": "91e85417",
   "metadata": {},
   "source": [
    "#### Visualization of Normal Distribution\n",
    "## plt.show()"
   ]
  },
  {
   "cell_type": "code",
   "execution_count": 65,
   "id": "dd49c632",
   "metadata": {},
   "outputs": [
    {
     "name": "stderr",
     "output_type": "stream",
     "text": [
      "C:\\Users\\User\\Documents\\anaconda3\\lib\\site-packages\\seaborn\\distributions.py:2619: FutureWarning: `distplot` is a deprecated function and will be removed in a future version. Please adapt your code to use either `displot` (a figure-level function with similar flexibility) or `kdeplot` (an axes-level function for kernel density plots).\n",
      "  warnings.warn(msg, FutureWarning)\n"
     ]
    },
    {
     "data": {
      "image/png": "[encoded data removed]",
      "text/plain": [
       "<Figure size 432x288 with 1 Axes>"
      ]
     },
     "metadata": {
      "needs_background": "light"
     },
     "output_type": "display_data"
    }
   ],
   "source": [
    "from numpy import random\n",
    "import matplotlib.pyplot as plt\n",
    "import seaborn as sns\n",
    "\n",
    "sns.distplot(random.normal(size=1000), hist=False)\n",
    "\n",
    "plt.show()"
   ]
  },
  {
   "cell_type": "markdown",
   "id": "e81d4e1c",
   "metadata": {},
   "source": [
    "# --BINOMIAL DISTRIBUTION"
   ]
  },
  {
   "cell_type": "code",
   "execution_count": null,
   "id": "3c398665",
   "metadata": {},
   "outputs": [],
   "source": []
  }
 ],
 "metadata": {
  "kernelspec": {
   "display_name": "Python 3 (ipykernel)",
   "language": "python",
   "name": "python3"
  },
  "language_info": {
   "codemirror_mode": {
    "name": "ipython",
    "version": 3
   },
   "file_extension": ".py",
   "mimetype": "text/x-python",
   "name": "python",
   "nbconvert_exporter": "python",
   "pygments_lexer": "ipython3",
   "version": "3.9.12"
  }
 },
 "nbformat": 4,
 "nbformat_minor": 5
}
